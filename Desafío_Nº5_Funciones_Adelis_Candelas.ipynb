{
  "nbformat": 4,
  "nbformat_minor": 0,
  "metadata": {
    "colab": {
      "provenance": [],
      "collapsed_sections": [],
      "toc_visible": true,
      "authorship_tag": "ABX9TyOj1O1neNK2MmeJCsMK5077",
      "include_colab_link": true
    },
    "kernelspec": {
      "name": "python3",
      "display_name": "Python 3"
    },
    "language_info": {
      "name": "python"
    }
  },
  "cells": [
    {
      "cell_type": "markdown",
      "metadata": {
        "id": "view-in-github",
        "colab_type": "text"
      },
      "source": [
        "<a href=\"https://colab.research.google.com/github/adeliscandelas/python-44065/blob/main/Desaf%C3%ADo_N%C2%BA5_Funciones_Adelis_Candelas.ipynb\" target=\"_parent\"><img src=\"https://colab.research.google.com/assets/colab-badge.svg\" alt=\"Open In Colab\"/></a>"
      ]
    },
    {
      "cell_type": "code",
      "execution_count": null,
      "metadata": {
        "colab": {
          "base_uri": "https://localhost:8080/"
        },
        "id": "P2jve-kqwGKb",
        "outputId": "864fc8de-019f-4bea-a442-78844bbc508c"
      },
      "outputs": [
        {
          "output_type": "stream",
          "name": "stdout",
          "text": [
            "El area de un rectangulo con una base 15 y altura 10 es:  150\n"
          ]
        }
      ],
      "source": [
        "# 1) Realiza una función llamada area_rectangulo() que devuelva el área del rectángulo\n",
        "# a partir de una base y una altura. Calcula el área de un rectángulo\n",
        "# de 15 de base y 10 de altura\n",
        "\n",
        "\n",
        "def area_rectangulo():\n",
        "    base = 15\n",
        "    altura = 10\n",
        "    arear=base*altura\n",
        "    resultador = print(\"El area de un rectangulo con una base 15 y altura 10 es: \", arear)\n",
        "    return resultador\n",
        "area_rectangulo()"
      ]
    },
    {
      "cell_type": "code",
      "source": [
        "# 2) Realiza una función llamada area_circulo() que devuelva el área de un círculo\n",
        "# a partir de un radio. Calcula el área de un círculo de 5 de radio\n",
        "\n",
        "def area_circulo():\n",
        "    pi = 3.14159\n",
        "    radio = 5\n",
        "    areac=pi*radio**2\n",
        "    resultadoc = print(\"El area de un circulo con un radio 5 es: \", areac)\n",
        "    return resultadoc\n",
        "area_circulo()"
      ],
      "metadata": {
        "colab": {
          "base_uri": "https://localhost:8080/"
        },
        "id": "7lqr2Ms8wi7F",
        "outputId": "80261f17-5986-483d-a95b-e35028597e51"
      },
      "execution_count": null,
      "outputs": [
        {
          "output_type": "stream",
          "name": "stdout",
          "text": [
            "El area de un circulo con un radio 5 es:  78.53975\n"
          ]
        }
      ]
    },
    {
      "cell_type": "code",
      "source": [
        "# 3) Realiza una función llamada relacion() que a partir de dos números cumpla lo siguiente:\n",
        "# Si el primer número es mayor que el segundo, debe devolver 1.\n",
        "# Si el primer número es menor que el segundo, debe devolver -1.\n",
        "# Si ambos números son iguales, debe devolver un 0.\n",
        "# Comprueba la relación entre los números: '5 y 10', '10 y 5' y '5 y 5'\n",
        "\n",
        "\n",
        "def relacion(a=0, b=0):\n",
        "    if a>b:\n",
        "        respuesta=print(1)\n",
        "        return respuesta\n",
        "    elif a<b:\n",
        "        respuesta=print(-1)\n",
        "        return respuesta\n",
        "    elif a==a:\n",
        "        respuesta=print(0)\n",
        "        return respuesta\n",
        "relacion(5,5)"
      ],
      "metadata": {
        "colab": {
          "base_uri": "https://localhost:8080/"
        },
        "id": "5Zgq0zpjwpoM",
        "outputId": "63e7e835-225d-4c16-9ee2-3f487f595373"
      },
      "execution_count": null,
      "outputs": [
        {
          "output_type": "stream",
          "name": "stdout",
          "text": [
            "0\n"
          ]
        }
      ]
    },
    {
      "cell_type": "code",
      "source": [
        "# 4) Realiza una función llamada intermedio() que a partir de dos números,\n",
        "# devuelva su punto intermedio:\n",
        "# Comprueba el punto intermedio entre -12 y 24\n",
        "\n",
        "def intermedio(a=0, b=0):\n",
        "    resultado = (a+b)/2\n",
        "    respuesta=print(resultado)\n",
        "    return respuesta\n",
        "intermedio(-12,24)    "
      ],
      "metadata": {
        "colab": {
          "base_uri": "https://localhost:8080/"
        },
        "id": "W3ns_qWxww1h",
        "outputId": "4e563f9e-6d99-4520-ff15-69a02a95ff3f"
      },
      "execution_count": null,
      "outputs": [
        {
          "output_type": "stream",
          "name": "stdout",
          "text": [
            "6.0\n"
          ]
        }
      ]
    },
    {
      "cell_type": "code",
      "source": [
        "# 5) Realizá una función llamada recortar() que reciba tres parámetros.\n",
        "# El primero es el número a recortar, el segundo es el límite inferior y\n",
        "# el tercero el límite superior. La función tendrá que cumplir lo siguiente:\n",
        "# Devolver el límite inferior si el número es menor que éste\n",
        "# Devolver el límite superior si el número es mayor que éste.\n",
        "# Devolver el número sin cambios si no se supera ningún límite.\n",
        "# Comprueba el resultado de recortar 15 entre los límites 0 y 10\n",
        "\n",
        "\n",
        "def frecortar(recortar=0, linferior=0, lsuperior=0):\n",
        "    if recortar<linferior:\n",
        "        respuesta=print(linferior)\n",
        "        return respuesta\n",
        "    elif recortar>lsuperior:\n",
        "        respuesta=print(lsuperior)\n",
        "        return respuesta\n",
        "    elif recortar>=linferior and recortar<=lsuperior:\n",
        "        respuesta=print(recortar)\n",
        "        return respuesta\n",
        "frecortar(8,0,10)"
      ],
      "metadata": {
        "colab": {
          "base_uri": "https://localhost:8080/"
        },
        "id": "U9vscXA2w0q3",
        "outputId": "ec4ac3e1-437c-4dc1-aa53-be8be8db7b7d"
      },
      "execution_count": null,
      "outputs": [
        {
          "output_type": "stream",
          "name": "stdout",
          "text": [
            "8\n"
          ]
        }
      ]
    },
    {
      "cell_type": "code",
      "source": [
        "# 6) Realiza una función separar() que tome una lista de números enteros\n",
        "# y devuelva dos listas ordenadas. La primera con los números pares, y la\n",
        "# segunda con los números impares:\n",
        "\n",
        "def separar():\n",
        "    lista=[10,5,8,4,3,6,7,1,12,11,9,2,15,13,14,16,19,20,17,18]\n",
        "    lista.sort()\n",
        "    pares=list()\n",
        "    impares=list()\n",
        "    \n",
        "    for a in lista:\n",
        "        if a%2==0:\n",
        "           pares.append(a)\n",
        "        elif a%2!=0:\n",
        "           impares.append(a)\n",
        "        \n",
        "    listaoriginal=print(\"Esta es la lista original de la funcion separar :\\n\",lista)\n",
        "    listapar=print(\"Esta lista separa todos los numeros pares de la lista original :\\n\",pares)\n",
        "    listaimpar=print(\"Esta lista separa todos los numeros impares de la lista original :\\n\",impares)\n",
        "    return listaoriginal\n",
        "    return listaimpar\n",
        "    return listapar\n",
        "separar()"
      ],
      "metadata": {
        "colab": {
          "base_uri": "https://localhost:8080/"
        },
        "id": "4our7wBdw4l5",
        "outputId": "a1133a92-8d79-4175-b0fd-f6affb466f19"
      },
      "execution_count": null,
      "outputs": [
        {
          "output_type": "stream",
          "name": "stdout",
          "text": [
            "Esta es la lista original de la funcion separar :\n",
            " [1, 2, 3, 4, 5, 6, 7, 8, 9, 10, 11, 12, 13, 14, 15, 16, 17, 18, 19, 20]\n",
            "Esta lista separa todos los numeros pares de la lista original :\n",
            " [2, 4, 6, 8, 10, 12, 14, 16, 18, 20]\n",
            "Esta lista separa todos los numeros impares de la lista original :\n",
            " [1, 3, 5, 7, 9, 11, 13, 15, 17, 19]\n"
          ]
        }
      ]
    }
  ]
}